{
 "cells": [
  {
   "cell_type": "code",
   "execution_count": 12,
   "metadata": {},
   "outputs": [
    {
     "data": {
      "text/html": [
       "<div>\n",
       "<style scoped>\n",
       "    .dataframe tbody tr th:only-of-type {\n",
       "        vertical-align: middle;\n",
       "    }\n",
       "\n",
       "    .dataframe tbody tr th {\n",
       "        vertical-align: top;\n",
       "    }\n",
       "\n",
       "    .dataframe thead th {\n",
       "        text-align: right;\n",
       "    }\n",
       "</style>\n",
       "<table border=\"1\" class=\"dataframe\">\n",
       "  <thead>\n",
       "    <tr style=\"text-align: right;\">\n",
       "      <th></th>\n",
       "      <th>ServiceStationName</th>\n",
       "      <th>Address</th>\n",
       "      <th>Suburb</th>\n",
       "      <th>Postcode</th>\n",
       "      <th>Brand</th>\n",
       "      <th>FuelCode</th>\n",
       "      <th>PriceUpdatedDate</th>\n",
       "      <th>Price</th>\n",
       "    </tr>\n",
       "  </thead>\n",
       "  <tbody>\n",
       "    <tr>\n",
       "      <th>0</th>\n",
       "      <td>Costco Canberra Airport (Members Only)</td>\n",
       "      <td>39-41 Mustang Avenue, Canberra Airport ACT 2609</td>\n",
       "      <td>Canberra Airport</td>\n",
       "      <td>2609</td>\n",
       "      <td>Costco</td>\n",
       "      <td>U91</td>\n",
       "      <td>2024-01-01 00:44:05</td>\n",
       "      <td>168.7</td>\n",
       "    </tr>\n",
       "    <tr>\n",
       "      <th>1</th>\n",
       "      <td>Costco Canberra Airport (Members Only)</td>\n",
       "      <td>39-41 Mustang Avenue, Canberra Airport ACT 2609</td>\n",
       "      <td>Canberra Airport</td>\n",
       "      <td>2609</td>\n",
       "      <td>Costco</td>\n",
       "      <td>P98</td>\n",
       "      <td>2024-01-01 00:44:05</td>\n",
       "      <td>189.7</td>\n",
       "    </tr>\n",
       "    <tr>\n",
       "      <th>2</th>\n",
       "      <td>Costco Canberra Airport (Members Only)</td>\n",
       "      <td>39-41 Mustang Avenue, Canberra Airport ACT 2609</td>\n",
       "      <td>Canberra Airport</td>\n",
       "      <td>2609</td>\n",
       "      <td>Costco</td>\n",
       "      <td>PDL</td>\n",
       "      <td>2024-01-01 00:44:05</td>\n",
       "      <td>177.7</td>\n",
       "    </tr>\n",
       "    <tr>\n",
       "      <th>3</th>\n",
       "      <td>Costco Casula (Members only)</td>\n",
       "      <td>20 Parkersfarm Place, Casula NSW 2170</td>\n",
       "      <td>Casula</td>\n",
       "      <td>2170</td>\n",
       "      <td>Costco</td>\n",
       "      <td>E10</td>\n",
       "      <td>2024-01-01 00:44:11</td>\n",
       "      <td>164.7</td>\n",
       "    </tr>\n",
       "    <tr>\n",
       "      <th>4</th>\n",
       "      <td>Costco Casula (Members only)</td>\n",
       "      <td>20 Parkersfarm Place, Casula NSW 2170</td>\n",
       "      <td>Casula</td>\n",
       "      <td>2170</td>\n",
       "      <td>Costco</td>\n",
       "      <td>P98</td>\n",
       "      <td>2024-01-01 00:44:11</td>\n",
       "      <td>188.7</td>\n",
       "    </tr>\n",
       "  </tbody>\n",
       "</table>\n",
       "</div>"
      ],
      "text/plain": [
       "                       ServiceStationName  \\\n",
       "0  Costco Canberra Airport (Members Only)   \n",
       "1  Costco Canberra Airport (Members Only)   \n",
       "2  Costco Canberra Airport (Members Only)   \n",
       "3            Costco Casula (Members only)   \n",
       "4            Costco Casula (Members only)   \n",
       "\n",
       "                                           Address            Suburb  \\\n",
       "0  39-41 Mustang Avenue, Canberra Airport ACT 2609  Canberra Airport   \n",
       "1  39-41 Mustang Avenue, Canberra Airport ACT 2609  Canberra Airport   \n",
       "2  39-41 Mustang Avenue, Canberra Airport ACT 2609  Canberra Airport   \n",
       "3            20 Parkersfarm Place, Casula NSW 2170            Casula   \n",
       "4            20 Parkersfarm Place, Casula NSW 2170            Casula   \n",
       "\n",
       "   Postcode   Brand FuelCode    PriceUpdatedDate  Price  \n",
       "0      2609  Costco      U91 2024-01-01 00:44:05  168.7  \n",
       "1      2609  Costco      P98 2024-01-01 00:44:05  189.7  \n",
       "2      2609  Costco      PDL 2024-01-01 00:44:05  177.7  \n",
       "3      2170  Costco      E10 2024-01-01 00:44:11  164.7  \n",
       "4      2170  Costco      P98 2024-01-01 00:44:11  188.7  "
      ]
     },
     "execution_count": 12,
     "metadata": {},
     "output_type": "execute_result"
    }
   ],
   "source": [
    "import pandas as pd\n",
    "\n",
    "# We'll read sheets one by one to avoid memory issues\n",
    "combined_df_parts = []\n",
    "\n",
    "for file_path in [\n",
    "    '/Users/henrychiu/Documents/fuel check project/fuel check data/2024/fuelcheck_pricehistory_jan2024.xlsx',\n",
    "    '/Users/henrychiu/Documents/fuel check project/fuel check data/2024/fuelcheck_pricehistory_feb2024.xlsx',\n",
    "    '/Users/henrychiu/Documents/fuel check project/fuel check data/2024/fuelcheck_pricehistory_mar2024.xlsx',\n",
    "    '/Users/henrychiu/Documents/fuel check project/fuel check data/2024/fuelcheck_pricehistory_apr2024.xlsx',\n",
    "    '/Users/henrychiu/Documents/fuel check project/fuel check data/2024/fuelcheck_pricehistory_may2024.xlsx',\n",
    "    '/Users/henrychiu/Documents/fuel check project/fuel check data/2024/fuelcheck_pricehistory_jun2024.xlsx',\n",
    "    '/Users/henrychiu/Documents/fuel check project/fuel check data/2024/fuelcheck_pricehistory_jul2024.xlsx',\n",
    "    '/Users/henrychiu/Documents/fuel check project/fuel check data/2024/fuelcheck_pricehistory_aug2024.xlsx',\n",
    "    '/Users/henrychiu/Documents/fuel check project/fuel check data/2024/fuelcheck_pricehistory_sep2024.xlsx',\n",
    "    '/Users/henrychiu/Documents/fuel check project/fuel check data/2024/fuelcheck_pricehistory_oct2024.xlsx',\n",
    "    '/Users/henrychiu/Documents/fuel check project/fuel check data/2024/fuelcheck_pricehistory_nov2024.xlsx',\n",
    "    '/Users/henrychiu/Documents/fuel check project/fuel check data/2024/fuelcheck_pricehistory_dec2024.xlsx'\n",
    "]:\n",
    "    # Read only the first sheet to keep it consistent and fast\n",
    "    df = pd.read_excel(file_path)\n",
    "    combined_df_parts.append(df)\n",
    "\n",
    "# Combine all dataframes\n",
    "combined_df = pd.concat(combined_df_parts, ignore_index=True)\n",
    "\n",
    "combined_df.head()"
   ]
  },
  {
   "cell_type": "code",
   "execution_count": 4,
   "metadata": {},
   "outputs": [
    {
     "data": {
      "text/html": [
       "<div>\n",
       "<style scoped>\n",
       "    .dataframe tbody tr th:only-of-type {\n",
       "        vertical-align: middle;\n",
       "    }\n",
       "\n",
       "    .dataframe tbody tr th {\n",
       "        vertical-align: top;\n",
       "    }\n",
       "\n",
       "    .dataframe thead th {\n",
       "        text-align: right;\n",
       "    }\n",
       "</style>\n",
       "<table border=\"1\" class=\"dataframe\">\n",
       "  <thead>\n",
       "    <tr style=\"text-align: right;\">\n",
       "      <th></th>\n",
       "      <th>ServiceStationName</th>\n",
       "      <th>Address</th>\n",
       "      <th>Suburb</th>\n",
       "      <th>Postcode</th>\n",
       "      <th>Brand</th>\n",
       "      <th>FuelCode</th>\n",
       "      <th>PriceUpdatedDate</th>\n",
       "      <th>Price</th>\n",
       "    </tr>\n",
       "  </thead>\n",
       "  <tbody>\n",
       "    <tr>\n",
       "      <th>844610</th>\n",
       "      <td>METRO PETROLEUM BALLINA</td>\n",
       "      <td>323 RIVER ST, BALLINA NSW 2478</td>\n",
       "      <td>BALLINA</td>\n",
       "      <td>2478.0</td>\n",
       "      <td>Metro Fuel</td>\n",
       "      <td>E10</td>\n",
       "      <td>2023-12-31 23:48:01</td>\n",
       "      <td>185.9</td>\n",
       "    </tr>\n",
       "    <tr>\n",
       "      <th>844611</th>\n",
       "      <td>METRO PETROLEUM BALLINA</td>\n",
       "      <td>323 RIVER ST, BALLINA NSW 2478</td>\n",
       "      <td>BALLINA</td>\n",
       "      <td>2478.0</td>\n",
       "      <td>Metro Fuel</td>\n",
       "      <td>U91</td>\n",
       "      <td>2023-12-31 23:48:01</td>\n",
       "      <td>187.9</td>\n",
       "    </tr>\n",
       "    <tr>\n",
       "      <th>844612</th>\n",
       "      <td>METRO PETROLEUM BALLINA</td>\n",
       "      <td>323 RIVER ST, BALLINA NSW 2478</td>\n",
       "      <td>BALLINA</td>\n",
       "      <td>2478.0</td>\n",
       "      <td>Metro Fuel</td>\n",
       "      <td>P95</td>\n",
       "      <td>2023-12-31 23:48:01</td>\n",
       "      <td>197.9</td>\n",
       "    </tr>\n",
       "    <tr>\n",
       "      <th>844613</th>\n",
       "      <td>METRO PETROLEUM BALLINA</td>\n",
       "      <td>323 RIVER ST, BALLINA NSW 2478</td>\n",
       "      <td>BALLINA</td>\n",
       "      <td>2478.0</td>\n",
       "      <td>Metro Fuel</td>\n",
       "      <td>P98</td>\n",
       "      <td>2023-12-31 23:48:01</td>\n",
       "      <td>207.9</td>\n",
       "    </tr>\n",
       "    <tr>\n",
       "      <th>844614</th>\n",
       "      <td>METRO PETROLEUM BALLINA</td>\n",
       "      <td>323 RIVER ST, BALLINA NSW 2478</td>\n",
       "      <td>BALLINA</td>\n",
       "      <td>2478.0</td>\n",
       "      <td>Metro Fuel</td>\n",
       "      <td>PDL</td>\n",
       "      <td>2023-12-31 23:48:01</td>\n",
       "      <td>207.9</td>\n",
       "    </tr>\n",
       "  </tbody>\n",
       "</table>\n",
       "</div>"
      ],
      "text/plain": [
       "             ServiceStationName                         Address   Suburb  \\\n",
       "844610  METRO PETROLEUM BALLINA  323 RIVER ST, BALLINA NSW 2478  BALLINA   \n",
       "844611  METRO PETROLEUM BALLINA  323 RIVER ST, BALLINA NSW 2478  BALLINA   \n",
       "844612  METRO PETROLEUM BALLINA  323 RIVER ST, BALLINA NSW 2478  BALLINA   \n",
       "844613  METRO PETROLEUM BALLINA  323 RIVER ST, BALLINA NSW 2478  BALLINA   \n",
       "844614  METRO PETROLEUM BALLINA  323 RIVER ST, BALLINA NSW 2478  BALLINA   \n",
       "\n",
       "        Postcode       Brand FuelCode     PriceUpdatedDate  Price  \n",
       "844610    2478.0  Metro Fuel      E10  2023-12-31 23:48:01  185.9  \n",
       "844611    2478.0  Metro Fuel      U91  2023-12-31 23:48:01  187.9  \n",
       "844612    2478.0  Metro Fuel      P95  2023-12-31 23:48:01  197.9  \n",
       "844613    2478.0  Metro Fuel      P98  2023-12-31 23:48:01  207.9  \n",
       "844614    2478.0  Metro Fuel      PDL  2023-12-31 23:48:01  207.9  "
      ]
     },
     "execution_count": 4,
     "metadata": {},
     "output_type": "execute_result"
    }
   ],
   "source": [
    "combined_df.tail()\n"
   ]
  },
  {
   "cell_type": "code",
   "execution_count": 13,
   "metadata": {},
   "outputs": [],
   "source": [
    "# Save combined raw file\n",
    "output_path = \"/Users/henrychiu/Documents/fuel check project/fuel check data/2024/combined_fuel_price_history_2024_raw.csv\"\n",
    "combined_df.to_csv(output_path, index=False)"
   ]
  },
  {
   "cell_type": "markdown",
   "metadata": {},
   "source": [
    "## data cleaning"
   ]
  },
  {
   "cell_type": "markdown",
   "metadata": {},
   "source": [
    "### drop missing data"
   ]
  },
  {
   "cell_type": "code",
   "execution_count": 14,
   "metadata": {},
   "outputs": [
    {
     "data": {
      "text/plain": [
       "0"
      ]
     },
     "execution_count": 14,
     "metadata": {},
     "output_type": "execute_result"
    }
   ],
   "source": [
    "missing_date_data = combined_df['PriceUpdatedDate'].isnull().sum()\n",
    "missing_date_data"
   ]
  },
  {
   "cell_type": "code",
   "execution_count": 7,
   "metadata": {},
   "outputs": [],
   "source": [
    "combined_df = combined_df.dropna(subset=['PriceUpdatedDate'])"
   ]
  },
  {
   "cell_type": "code",
   "execution_count": 15,
   "metadata": {},
   "outputs": [
    {
     "data": {
      "text/plain": [
       "ServiceStationName    0\n",
       "Address               0\n",
       "Postcode              0\n",
       "Suburb                0\n",
       "Brand                 0\n",
       "dtype: int64"
      ]
     },
     "execution_count": 15,
     "metadata": {},
     "output_type": "execute_result"
    }
   ],
   "source": [
    "columns_of_interest = ['ServiceStationName', 'Address', 'Postcode', 'Suburb', 'Brand']\n",
    "missing_summary = combined_df[columns_of_interest].isnull().sum()\n",
    "\n",
    "missing_summary\n"
   ]
  },
  {
   "cell_type": "code",
   "execution_count": 9,
   "metadata": {},
   "outputs": [
    {
     "name": "stderr",
     "output_type": "stream",
     "text": [
      "/var/folders/56/9ccg46j54r99nc2y8w_2gvx00000gn/T/ipykernel_15521/623050441.py:2: FutureWarning: DataFrame.fillna with 'method' is deprecated and will raise in a future version. Use obj.ffill() or obj.bfill() instead.\n",
      "  combined_df[['ServiceStationName', 'Address', 'Postcode', 'Suburb', 'Brand']].fillna(method='ffill')\n"
     ]
    }
   ],
   "source": [
    "combined_df[['ServiceStationName', 'Address', 'Postcode', 'Suburb', 'Brand']] = (\n",
    "    combined_df[['ServiceStationName', 'Address', 'Postcode', 'Suburb', 'Brand']].fillna(method='ffill')\n",
    ")\n"
   ]
  },
  {
   "cell_type": "code",
   "execution_count": 10,
   "metadata": {},
   "outputs": [
    {
     "data": {
      "text/plain": [
       "ServiceStationName    0\n",
       "Address               0\n",
       "Postcode              0\n",
       "Suburb                0\n",
       "Brand                 0\n",
       "dtype: int64"
      ]
     },
     "execution_count": 10,
     "metadata": {},
     "output_type": "execute_result"
    }
   ],
   "source": [
    "missing_summary = combined_df[columns_of_interest].isnull().sum()\n",
    "missing_summary"
   ]
  },
  {
   "cell_type": "code",
   "execution_count": 11,
   "metadata": {},
   "outputs": [],
   "source": [
    "# Save combined file\n",
    "output_path = \"/Users/henrychiu/Documents/fuel check project/fuel check data/2024/combined_fuel_price_history_2024_cleaned.csv\"\n",
    "combined_df.to_csv(output_path, index=False)"
   ]
  }
 ],
 "metadata": {
  "kernelspec": {
   "display_name": "base",
   "language": "python",
   "name": "python3"
  },
  "language_info": {
   "codemirror_mode": {
    "name": "ipython",
    "version": 3
   },
   "file_extension": ".py",
   "mimetype": "text/x-python",
   "name": "python",
   "nbconvert_exporter": "python",
   "pygments_lexer": "ipython3",
   "version": "3.11.8"
  }
 },
 "nbformat": 4,
 "nbformat_minor": 2
}
