{
 "cells": [
  {
   "cell_type": "code",
   "execution_count": 3,
   "metadata": {},
   "outputs": [
    {
     "data": {
      "text/html": [
       "<div>\n",
       "<style scoped>\n",
       "    .dataframe tbody tr th:only-of-type {\n",
       "        vertical-align: middle;\n",
       "    }\n",
       "\n",
       "    .dataframe tbody tr th {\n",
       "        vertical-align: top;\n",
       "    }\n",
       "\n",
       "    .dataframe thead th {\n",
       "        text-align: right;\n",
       "    }\n",
       "</style>\n",
       "<table border=\"1\" class=\"dataframe\">\n",
       "  <thead>\n",
       "    <tr style=\"text-align: right;\">\n",
       "      <th></th>\n",
       "      <th>ServiceStationName</th>\n",
       "      <th>Address</th>\n",
       "      <th>Suburb</th>\n",
       "      <th>Postcode</th>\n",
       "      <th>Brand</th>\n",
       "      <th>FuelCode</th>\n",
       "      <th>PriceUpdatedDate</th>\n",
       "      <th>Price</th>\n",
       "    </tr>\n",
       "  </thead>\n",
       "  <tbody>\n",
       "    <tr>\n",
       "      <th>0</th>\n",
       "      <td>7-Eleven Medowie</td>\n",
       "      <td>787 MEDOWIE RD, MEDOWIE NSW 2318</td>\n",
       "      <td>MEDOWIE</td>\n",
       "      <td>2318.0</td>\n",
       "      <td>7-Eleven</td>\n",
       "      <td>PDL</td>\n",
       "      <td>1/01/2023 12:00:02 AM</td>\n",
       "      <td>203.9</td>\n",
       "    </tr>\n",
       "    <tr>\n",
       "      <th>1</th>\n",
       "      <td>Metro Petroleum Ballina</td>\n",
       "      <td>323 River Street, BALLINA NSW 2478</td>\n",
       "      <td>BALLINA</td>\n",
       "      <td>2478.0</td>\n",
       "      <td>Metro Fuel</td>\n",
       "      <td>P95</td>\n",
       "      <td>1/01/2023 12:16:25 AM</td>\n",
       "      <td>196.9</td>\n",
       "    </tr>\n",
       "    <tr>\n",
       "      <th>2</th>\n",
       "      <td>NaN</td>\n",
       "      <td>NaN</td>\n",
       "      <td>NaN</td>\n",
       "      <td>NaN</td>\n",
       "      <td>NaN</td>\n",
       "      <td>P98</td>\n",
       "      <td>1/01/2023 12:16:25 AM</td>\n",
       "      <td>205.9</td>\n",
       "    </tr>\n",
       "    <tr>\n",
       "      <th>3</th>\n",
       "      <td>NaN</td>\n",
       "      <td>NaN</td>\n",
       "      <td>NaN</td>\n",
       "      <td>NaN</td>\n",
       "      <td>NaN</td>\n",
       "      <td>PDL</td>\n",
       "      <td>1/01/2023 12:16:25 AM</td>\n",
       "      <td>217.9</td>\n",
       "    </tr>\n",
       "    <tr>\n",
       "      <th>4</th>\n",
       "      <td>NaN</td>\n",
       "      <td>NaN</td>\n",
       "      <td>NaN</td>\n",
       "      <td>NaN</td>\n",
       "      <td>NaN</td>\n",
       "      <td>E10</td>\n",
       "      <td>1/01/2023 12:16:25 AM</td>\n",
       "      <td>186.9</td>\n",
       "    </tr>\n",
       "  </tbody>\n",
       "</table>\n",
       "</div>"
      ],
      "text/plain": [
       "        ServiceStationName                             Address   Suburb  \\\n",
       "0         7-Eleven Medowie    787 MEDOWIE RD, MEDOWIE NSW 2318  MEDOWIE   \n",
       "1  Metro Petroleum Ballina  323 River Street, BALLINA NSW 2478  BALLINA   \n",
       "2                      NaN                                 NaN      NaN   \n",
       "3                      NaN                                 NaN      NaN   \n",
       "4                      NaN                                 NaN      NaN   \n",
       "\n",
       "   Postcode       Brand FuelCode       PriceUpdatedDate  Price  \n",
       "0    2318.0    7-Eleven      PDL  1/01/2023 12:00:02 AM  203.9  \n",
       "1    2478.0  Metro Fuel      P95  1/01/2023 12:16:25 AM  196.9  \n",
       "2       NaN         NaN      P98  1/01/2023 12:16:25 AM  205.9  \n",
       "3       NaN         NaN      PDL  1/01/2023 12:16:25 AM  217.9  \n",
       "4       NaN         NaN      E10  1/01/2023 12:16:25 AM  186.9  "
      ]
     },
     "execution_count": 3,
     "metadata": {},
     "output_type": "execute_result"
    }
   ],
   "source": [
    "import pandas as pd\n",
    "\n",
    "# We'll read sheets one by one to avoid memory issues\n",
    "combined_df_parts = []\n",
    "\n",
    "for file_path in [\n",
    "    \"/Users/henrychiu/Documents/fuel check project/fuel check data/2023/price_history_checks_jan2023.xlsx\",\n",
    "    '/Users/henrychiu/Documents/fuel check project/fuel check data/2023/price_history_checks_feb2023.xlsx',\n",
    "    '/Users/henrychiu/Documents/fuel check project/fuel check data/2023/price_history_checks_mar2023.xlsx',\n",
    "    '/Users/henrychiu/Documents/fuel check project/fuel check data/2023/price_history_checks_april2023.xlsx',\n",
    "    '/Users/henrychiu/Documents/fuel check project/fuel check data/2023/price_history_checks_may2023.xlsx',\n",
    "    '/Users/henrychiu/Documents/fuel check project/fuel check data/2023/price_history_checks_june2023.xlsx',\n",
    "    '/Users/henrychiu/Documents/fuel check project/fuel check data/2023/price_history_checks_july2023.xlsx',\n",
    "    '/Users/henrychiu/Documents/fuel check project/fuel check data/2023/price_history_checks_aug2023.xlsx',\n",
    "    '/Users/henrychiu/Documents/fuel check project/fuel check data/2023/price_history_checks_sep2023.xlsx',\n",
    "    '/Users/henrychiu/Documents/fuel check project/fuel check data/2023/price_history_checks_october2023.xlsx',\n",
    "    '/Users/henrychiu/Documents/fuel check project/fuel check data/2023/price_history_checks_nov2023.xlsx',\n",
    "    '/Users/henrychiu/Documents/fuel check project/fuel check data/2023/price_history_checks_dec2023.xlsx'\n",
    "]:\n",
    "    # Read only the first sheet to keep it consistent and fast\n",
    "    df = pd.read_excel(file_path, sheet_name=0)\n",
    "    combined_df_parts.append(df)\n",
    "\n",
    "# Combine all dataframes\n",
    "combined_df = pd.concat(combined_df_parts, ignore_index=True)\n",
    "\n",
    "combined_df.head()"
   ]
  },
  {
   "cell_type": "code",
   "execution_count": 4,
   "metadata": {},
   "outputs": [
    {
     "data": {
      "text/html": [
       "<div>\n",
       "<style scoped>\n",
       "    .dataframe tbody tr th:only-of-type {\n",
       "        vertical-align: middle;\n",
       "    }\n",
       "\n",
       "    .dataframe tbody tr th {\n",
       "        vertical-align: top;\n",
       "    }\n",
       "\n",
       "    .dataframe thead th {\n",
       "        text-align: right;\n",
       "    }\n",
       "</style>\n",
       "<table border=\"1\" class=\"dataframe\">\n",
       "  <thead>\n",
       "    <tr style=\"text-align: right;\">\n",
       "      <th></th>\n",
       "      <th>ServiceStationName</th>\n",
       "      <th>Address</th>\n",
       "      <th>Suburb</th>\n",
       "      <th>Postcode</th>\n",
       "      <th>Brand</th>\n",
       "      <th>FuelCode</th>\n",
       "      <th>PriceUpdatedDate</th>\n",
       "      <th>Price</th>\n",
       "    </tr>\n",
       "  </thead>\n",
       "  <tbody>\n",
       "    <tr>\n",
       "      <th>844610</th>\n",
       "      <td>METRO PETROLEUM BALLINA</td>\n",
       "      <td>323 RIVER ST, BALLINA NSW 2478</td>\n",
       "      <td>BALLINA</td>\n",
       "      <td>2478.0</td>\n",
       "      <td>Metro Fuel</td>\n",
       "      <td>E10</td>\n",
       "      <td>2023-12-31 23:48:01</td>\n",
       "      <td>185.9</td>\n",
       "    </tr>\n",
       "    <tr>\n",
       "      <th>844611</th>\n",
       "      <td>METRO PETROLEUM BALLINA</td>\n",
       "      <td>323 RIVER ST, BALLINA NSW 2478</td>\n",
       "      <td>BALLINA</td>\n",
       "      <td>2478.0</td>\n",
       "      <td>Metro Fuel</td>\n",
       "      <td>U91</td>\n",
       "      <td>2023-12-31 23:48:01</td>\n",
       "      <td>187.9</td>\n",
       "    </tr>\n",
       "    <tr>\n",
       "      <th>844612</th>\n",
       "      <td>METRO PETROLEUM BALLINA</td>\n",
       "      <td>323 RIVER ST, BALLINA NSW 2478</td>\n",
       "      <td>BALLINA</td>\n",
       "      <td>2478.0</td>\n",
       "      <td>Metro Fuel</td>\n",
       "      <td>P95</td>\n",
       "      <td>2023-12-31 23:48:01</td>\n",
       "      <td>197.9</td>\n",
       "    </tr>\n",
       "    <tr>\n",
       "      <th>844613</th>\n",
       "      <td>METRO PETROLEUM BALLINA</td>\n",
       "      <td>323 RIVER ST, BALLINA NSW 2478</td>\n",
       "      <td>BALLINA</td>\n",
       "      <td>2478.0</td>\n",
       "      <td>Metro Fuel</td>\n",
       "      <td>P98</td>\n",
       "      <td>2023-12-31 23:48:01</td>\n",
       "      <td>207.9</td>\n",
       "    </tr>\n",
       "    <tr>\n",
       "      <th>844614</th>\n",
       "      <td>METRO PETROLEUM BALLINA</td>\n",
       "      <td>323 RIVER ST, BALLINA NSW 2478</td>\n",
       "      <td>BALLINA</td>\n",
       "      <td>2478.0</td>\n",
       "      <td>Metro Fuel</td>\n",
       "      <td>PDL</td>\n",
       "      <td>2023-12-31 23:48:01</td>\n",
       "      <td>207.9</td>\n",
       "    </tr>\n",
       "  </tbody>\n",
       "</table>\n",
       "</div>"
      ],
      "text/plain": [
       "             ServiceStationName                         Address   Suburb  \\\n",
       "844610  METRO PETROLEUM BALLINA  323 RIVER ST, BALLINA NSW 2478  BALLINA   \n",
       "844611  METRO PETROLEUM BALLINA  323 RIVER ST, BALLINA NSW 2478  BALLINA   \n",
       "844612  METRO PETROLEUM BALLINA  323 RIVER ST, BALLINA NSW 2478  BALLINA   \n",
       "844613  METRO PETROLEUM BALLINA  323 RIVER ST, BALLINA NSW 2478  BALLINA   \n",
       "844614  METRO PETROLEUM BALLINA  323 RIVER ST, BALLINA NSW 2478  BALLINA   \n",
       "\n",
       "        Postcode       Brand FuelCode     PriceUpdatedDate  Price  \n",
       "844610    2478.0  Metro Fuel      E10  2023-12-31 23:48:01  185.9  \n",
       "844611    2478.0  Metro Fuel      U91  2023-12-31 23:48:01  187.9  \n",
       "844612    2478.0  Metro Fuel      P95  2023-12-31 23:48:01  197.9  \n",
       "844613    2478.0  Metro Fuel      P98  2023-12-31 23:48:01  207.9  \n",
       "844614    2478.0  Metro Fuel      PDL  2023-12-31 23:48:01  207.9  "
      ]
     },
     "execution_count": 4,
     "metadata": {},
     "output_type": "execute_result"
    }
   ],
   "source": [
    "combined_df.tail()\n"
   ]
  },
  {
   "cell_type": "code",
   "execution_count": 5,
   "metadata": {},
   "outputs": [],
   "source": [
    "# Save combined raw file\n",
    "output_path = \"/Users/henrychiu/Documents/fuel check project/fuel check data/2023/combined_fuel_price_history_2023_raw.csv\"\n",
    "combined_df.to_csv(output_path, index=False)"
   ]
  },
  {
   "cell_type": "markdown",
   "metadata": {},
   "source": [
    "## data cleaning"
   ]
  },
  {
   "cell_type": "markdown",
   "metadata": {},
   "source": [
    "### drop missing data"
   ]
  },
  {
   "cell_type": "code",
   "execution_count": 6,
   "metadata": {},
   "outputs": [
    {
     "data": {
      "text/plain": [
       "16"
      ]
     },
     "execution_count": 6,
     "metadata": {},
     "output_type": "execute_result"
    }
   ],
   "source": [
    "missing_date_data = combined_df['PriceUpdatedDate'].isnull().sum()\n",
    "missing_date_data"
   ]
  },
  {
   "cell_type": "code",
   "execution_count": 7,
   "metadata": {},
   "outputs": [],
   "source": [
    "combined_df = combined_df.dropna(subset=['PriceUpdatedDate'])"
   ]
  },
  {
   "cell_type": "code",
   "execution_count": 8,
   "metadata": {},
   "outputs": [
    {
     "data": {
      "text/plain": [
       "ServiceStationName    414441\n",
       "Address               412687\n",
       "Postcode              412707\n",
       "Suburb                412692\n",
       "Brand                 412939\n",
       "dtype: int64"
      ]
     },
     "execution_count": 8,
     "metadata": {},
     "output_type": "execute_result"
    }
   ],
   "source": [
    "columns_of_interest = ['ServiceStationName', 'Address', 'Postcode', 'Suburb', 'Brand']\n",
    "missing_summary = combined_df[columns_of_interest].isnull().sum()\n",
    "\n",
    "missing_summary\n"
   ]
  },
  {
   "cell_type": "code",
   "execution_count": 9,
   "metadata": {},
   "outputs": [
    {
     "name": "stderr",
     "output_type": "stream",
     "text": [
      "/var/folders/56/9ccg46j54r99nc2y8w_2gvx00000gn/T/ipykernel_15521/623050441.py:2: FutureWarning: DataFrame.fillna with 'method' is deprecated and will raise in a future version. Use obj.ffill() or obj.bfill() instead.\n",
      "  combined_df[['ServiceStationName', 'Address', 'Postcode', 'Suburb', 'Brand']].fillna(method='ffill')\n"
     ]
    }
   ],
   "source": [
    "combined_df[['ServiceStationName', 'Address', 'Postcode', 'Suburb', 'Brand']] = (\n",
    "    combined_df[['ServiceStationName', 'Address', 'Postcode', 'Suburb', 'Brand']].fillna(method='ffill')\n",
    ")\n"
   ]
  },
  {
   "cell_type": "code",
   "execution_count": 10,
   "metadata": {},
   "outputs": [
    {
     "data": {
      "text/plain": [
       "ServiceStationName    0\n",
       "Address               0\n",
       "Postcode              0\n",
       "Suburb                0\n",
       "Brand                 0\n",
       "dtype: int64"
      ]
     },
     "execution_count": 10,
     "metadata": {},
     "output_type": "execute_result"
    }
   ],
   "source": [
    "missing_summary = combined_df[columns_of_interest].isnull().sum()\n",
    "missing_summary"
   ]
  },
  {
   "cell_type": "code",
   "execution_count": 11,
   "metadata": {},
   "outputs": [],
   "source": [
    "# Save combined file\n",
    "output_path = \"/Users/henrychiu/Documents/fuel check project/fuel check data/2023/combined_fuel_price_history_2023_cleaned.csv\"\n",
    "combined_df.to_csv(output_path, index=False)"
   ]
  }
 ],
 "metadata": {
  "kernelspec": {
   "display_name": "base",
   "language": "python",
   "name": "python3"
  },
  "language_info": {
   "codemirror_mode": {
    "name": "ipython",
    "version": 3
   },
   "file_extension": ".py",
   "mimetype": "text/x-python",
   "name": "python",
   "nbconvert_exporter": "python",
   "pygments_lexer": "ipython3",
   "version": "3.11.8"
  }
 },
 "nbformat": 4,
 "nbformat_minor": 2
}
