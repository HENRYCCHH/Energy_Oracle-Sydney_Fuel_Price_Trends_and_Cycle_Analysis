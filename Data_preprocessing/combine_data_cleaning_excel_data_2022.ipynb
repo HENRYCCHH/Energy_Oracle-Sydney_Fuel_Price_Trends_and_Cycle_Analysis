{
 "cells": [
  {
   "cell_type": "code",
   "execution_count": 17,
   "metadata": {},
   "outputs": [
    {
     "data": {
      "text/html": [
       "<div>\n",
       "<style scoped>\n",
       "    .dataframe tbody tr th:only-of-type {\n",
       "        vertical-align: middle;\n",
       "    }\n",
       "\n",
       "    .dataframe tbody tr th {\n",
       "        vertical-align: top;\n",
       "    }\n",
       "\n",
       "    .dataframe thead th {\n",
       "        text-align: right;\n",
       "    }\n",
       "</style>\n",
       "<table border=\"1\" class=\"dataframe\">\n",
       "  <thead>\n",
       "    <tr style=\"text-align: right;\">\n",
       "      <th></th>\n",
       "      <th>ServiceStationName</th>\n",
       "      <th>Address</th>\n",
       "      <th>Suburb</th>\n",
       "      <th>Postcode</th>\n",
       "      <th>Brand</th>\n",
       "      <th>FuelCode</th>\n",
       "      <th>PriceUpdatedDate</th>\n",
       "      <th>Price</th>\n",
       "    </tr>\n",
       "  </thead>\n",
       "  <tbody>\n",
       "    <tr>\n",
       "      <th>0</th>\n",
       "      <td>BP CAMDEN</td>\n",
       "      <td>12 ARGYLE ST, CAMDEN NSW 2570</td>\n",
       "      <td>CAMDEN</td>\n",
       "      <td>2570.0</td>\n",
       "      <td>BP</td>\n",
       "      <td>E10</td>\n",
       "      <td>1/01/2022 12:02:04 AM</td>\n",
       "      <td>141.9</td>\n",
       "    </tr>\n",
       "    <tr>\n",
       "      <th>1</th>\n",
       "      <td>NaN</td>\n",
       "      <td>NaN</td>\n",
       "      <td>NaN</td>\n",
       "      <td>NaN</td>\n",
       "      <td>NaN</td>\n",
       "      <td>U91</td>\n",
       "      <td>1/01/2022 12:02:04 AM</td>\n",
       "      <td>143.9</td>\n",
       "    </tr>\n",
       "    <tr>\n",
       "      <th>2</th>\n",
       "      <td>Caltex Woolworths Woolooware</td>\n",
       "      <td>449 Captain Cook Drive, Woolooware NSW 2230</td>\n",
       "      <td>Woolooware</td>\n",
       "      <td>2230.0</td>\n",
       "      <td>Caltex Woolworths</td>\n",
       "      <td>U91</td>\n",
       "      <td>1/01/2022 12:04:40 AM</td>\n",
       "      <td>173.9</td>\n",
       "    </tr>\n",
       "    <tr>\n",
       "      <th>3</th>\n",
       "      <td>NaN</td>\n",
       "      <td>NaN</td>\n",
       "      <td>NaN</td>\n",
       "      <td>NaN</td>\n",
       "      <td>NaN</td>\n",
       "      <td>P95</td>\n",
       "      <td>1/01/2022 12:04:40 AM</td>\n",
       "      <td>186.9</td>\n",
       "    </tr>\n",
       "    <tr>\n",
       "      <th>4</th>\n",
       "      <td>NaN</td>\n",
       "      <td>NaN</td>\n",
       "      <td>NaN</td>\n",
       "      <td>NaN</td>\n",
       "      <td>NaN</td>\n",
       "      <td>E10</td>\n",
       "      <td>1/01/2022 12:04:40 AM</td>\n",
       "      <td>171.9</td>\n",
       "    </tr>\n",
       "  </tbody>\n",
       "</table>\n",
       "</div>"
      ],
      "text/plain": [
       "             ServiceStationName                                      Address  \\\n",
       "0                     BP CAMDEN                12 ARGYLE ST, CAMDEN NSW 2570   \n",
       "1                           NaN                                          NaN   \n",
       "2  Caltex Woolworths Woolooware  449 Captain Cook Drive, Woolooware NSW 2230   \n",
       "3                           NaN                                          NaN   \n",
       "4                           NaN                                          NaN   \n",
       "\n",
       "       Suburb  Postcode              Brand FuelCode       PriceUpdatedDate  \\\n",
       "0      CAMDEN    2570.0                 BP      E10  1/01/2022 12:02:04 AM   \n",
       "1         NaN       NaN                NaN      U91  1/01/2022 12:02:04 AM   \n",
       "2  Woolooware    2230.0  Caltex Woolworths      U91  1/01/2022 12:04:40 AM   \n",
       "3         NaN       NaN                NaN      P95  1/01/2022 12:04:40 AM   \n",
       "4         NaN       NaN                NaN      E10  1/01/2022 12:04:40 AM   \n",
       "\n",
       "   Price  \n",
       "0  141.9  \n",
       "1  143.9  \n",
       "2  173.9  \n",
       "3  186.9  \n",
       "4  171.9  "
      ]
     },
     "execution_count": 17,
     "metadata": {},
     "output_type": "execute_result"
    }
   ],
   "source": [
    "import pandas as pd\n",
    "\n",
    "# We'll read sheets one by one to avoid memory issues\n",
    "combined_df_parts = []\n",
    "\n",
    "for file_path in [\n",
    "    \"/Users/henrychiu/Documents/check data/2022/price_history_checks_january2022.xlsx\",\n",
    "    '/Users/henrychiu/Documents/check data/2022/price_history_checks_february2022.xlsx',\n",
    "    '/Users/henrychiu/Documents/check data/2022/price_history_checks_march2022.xlsx',\n",
    "    '/Users/henrychiu/Documents/check data/2022/price_history_checks_april2022.xlsx',\n",
    "    '/Users/henrychiu/Documents/check data/2022/price_history_checks_may2022.xlsx',\n",
    "    '/Users/henrychiu/Documents/check data/2022/price_history_checks_june2022.xlsx',\n",
    "    '/Users/henrychiu/Documents/check data/2022/price_history_checks_july2022.xlsx',\n",
    "    '/Users/henrychiu/Documents/check data/2022/price_history_checks_august2022.xlsx',\n",
    "    '/Users/henrychiu/Documents/check data/2022/price_history_checks_sep2022.xlsx',\n",
    "    '/Users/henrychiu/Documents/check data/2022/price_history_checks_october2022.xlsx',\n",
    "    '/Users/henrychiu/Documents/check data/2022/price_history_checks_november2022.xlsx',\n",
    "    '/Users/henrychiu/Documents/check data/2022/price_history_checks_dec2022.xlsx'\n",
    "]:\n",
    "    # Read only the first sheet to keep it consistent and fast\n",
    "    df = pd.read_excel(file_path, sheet_name=0)\n",
    "    combined_df_parts.append(df)\n",
    "\n",
    "# Combine all dataframes\n",
    "combined_df = pd.concat(combined_df_parts, ignore_index=True)\n",
    "\n",
    "combined_df.head()"
   ]
  },
  {
   "cell_type": "code",
   "execution_count": 15,
   "metadata": {},
   "outputs": [
    {
     "data": {
      "text/html": [
       "<div>\n",
       "<style scoped>\n",
       "    .dataframe tbody tr th:only-of-type {\n",
       "        vertical-align: middle;\n",
       "    }\n",
       "\n",
       "    .dataframe tbody tr th {\n",
       "        vertical-align: top;\n",
       "    }\n",
       "\n",
       "    .dataframe thead th {\n",
       "        text-align: right;\n",
       "    }\n",
       "</style>\n",
       "<table border=\"1\" class=\"dataframe\">\n",
       "  <thead>\n",
       "    <tr style=\"text-align: right;\">\n",
       "      <th></th>\n",
       "      <th>ServiceStationName</th>\n",
       "      <th>Address</th>\n",
       "      <th>Suburb</th>\n",
       "      <th>Postcode</th>\n",
       "      <th>Brand</th>\n",
       "      <th>FuelCode</th>\n",
       "      <th>PriceUpdatedDate</th>\n",
       "      <th>Price</th>\n",
       "    </tr>\n",
       "  </thead>\n",
       "  <tbody>\n",
       "    <tr>\n",
       "      <th>988193</th>\n",
       "      <td>Metro Petroleum Ballina</td>\n",
       "      <td>323 River Street, BALLINA NSW 2478</td>\n",
       "      <td>BALLINA</td>\n",
       "      <td>2478.0</td>\n",
       "      <td>Metro Fuel</td>\n",
       "      <td>E10</td>\n",
       "      <td>2022-07-31 23:26:59</td>\n",
       "      <td>195.9</td>\n",
       "    </tr>\n",
       "    <tr>\n",
       "      <th>988194</th>\n",
       "      <td>Metro Petroleum Ballina</td>\n",
       "      <td>323 River Street, BALLINA NSW 2478</td>\n",
       "      <td>BALLINA</td>\n",
       "      <td>2478.0</td>\n",
       "      <td>Metro Fuel</td>\n",
       "      <td>P98</td>\n",
       "      <td>2022-07-31 23:26:59</td>\n",
       "      <td>217.9</td>\n",
       "    </tr>\n",
       "    <tr>\n",
       "      <th>988195</th>\n",
       "      <td>Metro Petroleum Ballina</td>\n",
       "      <td>323 River Street, BALLINA NSW 2478</td>\n",
       "      <td>BALLINA</td>\n",
       "      <td>2478.0</td>\n",
       "      <td>Metro Fuel</td>\n",
       "      <td>PDL</td>\n",
       "      <td>2022-07-31 23:26:59</td>\n",
       "      <td>212.9</td>\n",
       "    </tr>\n",
       "    <tr>\n",
       "      <th>988196</th>\n",
       "      <td>Metro Petroleum Ballina</td>\n",
       "      <td>323 River Street, BALLINA NSW 2478</td>\n",
       "      <td>BALLINA</td>\n",
       "      <td>2478.0</td>\n",
       "      <td>Metro Fuel</td>\n",
       "      <td>P95</td>\n",
       "      <td>2022-07-31 23:26:59</td>\n",
       "      <td>212.9</td>\n",
       "    </tr>\n",
       "    <tr>\n",
       "      <th>988197</th>\n",
       "      <td>Shell Cardiff</td>\n",
       "      <td>200 Main Road, Cardiff NSW 2285</td>\n",
       "      <td>Cardiff</td>\n",
       "      <td>2285.0</td>\n",
       "      <td>Shell</td>\n",
       "      <td>P98</td>\n",
       "      <td>2022-07-31 23:30:34</td>\n",
       "      <td>199.9</td>\n",
       "    </tr>\n",
       "  </tbody>\n",
       "</table>\n",
       "</div>"
      ],
      "text/plain": [
       "             ServiceStationName                             Address   Suburb  \\\n",
       "988193  Metro Petroleum Ballina  323 River Street, BALLINA NSW 2478  BALLINA   \n",
       "988194  Metro Petroleum Ballina  323 River Street, BALLINA NSW 2478  BALLINA   \n",
       "988195  Metro Petroleum Ballina  323 River Street, BALLINA NSW 2478  BALLINA   \n",
       "988196  Metro Petroleum Ballina  323 River Street, BALLINA NSW 2478  BALLINA   \n",
       "988197            Shell Cardiff     200 Main Road, Cardiff NSW 2285  Cardiff   \n",
       "\n",
       "        Postcode       Brand FuelCode     PriceUpdatedDate  Price  \n",
       "988193    2478.0  Metro Fuel      E10  2022-07-31 23:26:59  195.9  \n",
       "988194    2478.0  Metro Fuel      P98  2022-07-31 23:26:59  217.9  \n",
       "988195    2478.0  Metro Fuel      PDL  2022-07-31 23:26:59  212.9  \n",
       "988196    2478.0  Metro Fuel      P95  2022-07-31 23:26:59  212.9  \n",
       "988197    2285.0       Shell      P98  2022-07-31 23:30:34  199.9  "
      ]
     },
     "execution_count": 15,
     "metadata": {},
     "output_type": "execute_result"
    }
   ],
   "source": [
    "combined_df.tail()\n"
   ]
  },
  {
   "cell_type": "code",
   "execution_count": 18,
   "metadata": {},
   "outputs": [],
   "source": [
    "# Save combined raw file\n",
    "output_path = \"/Users/henrychiu/Documents/UTS/SEM4/95563 Data Driven storytelling studio/fuel check project/fuel check data/2022/combined_fuel_price_history_2022_raw.csv\"\n",
    "combined_df.to_csv(output_path, index=False)"
   ]
  },
  {
   "cell_type": "markdown",
   "metadata": {},
   "source": [
    "## data cleaning"
   ]
  },
  {
   "cell_type": "markdown",
   "metadata": {},
   "source": [
    "### drop missing data"
   ]
  },
  {
   "cell_type": "code",
   "execution_count": 19,
   "metadata": {},
   "outputs": [
    {
     "data": {
      "text/plain": [
       "31"
      ]
     },
     "execution_count": 19,
     "metadata": {},
     "output_type": "execute_result"
    }
   ],
   "source": [
    "missing_date_data = combined_df['PriceUpdatedDate'].isnull().sum()\n",
    "missing_date_data"
   ]
  },
  {
   "cell_type": "code",
   "execution_count": 20,
   "metadata": {},
   "outputs": [],
   "source": [
    "combined_df = combined_df.dropna(subset=['PriceUpdatedDate'])"
   ]
  },
  {
   "cell_type": "code",
   "execution_count": 21,
   "metadata": {},
   "outputs": [
    {
     "data": {
      "text/plain": [
       "ServiceStationName    324205\n",
       "Address               322696\n",
       "Postcode              322713\n",
       "Suburb                322699\n",
       "Brand                 322899\n",
       "dtype: int64"
      ]
     },
     "execution_count": 21,
     "metadata": {},
     "output_type": "execute_result"
    }
   ],
   "source": [
    "columns_of_interest = ['ServiceStationName', 'Address', 'Postcode', 'Suburb', 'Brand']\n",
    "missing_summary = combined_df[columns_of_interest].isnull().sum()\n",
    "\n",
    "missing_summary\n"
   ]
  },
  {
   "cell_type": "code",
   "execution_count": 22,
   "metadata": {},
   "outputs": [
    {
     "name": "stderr",
     "output_type": "stream",
     "text": [
      "/var/folders/56/9ccg46j54r99nc2y8w_2gvx00000gn/T/ipykernel_68564/623050441.py:2: FutureWarning: DataFrame.fillna with 'method' is deprecated and will raise in a future version. Use obj.ffill() or obj.bfill() instead.\n",
      "  combined_df[['ServiceStationName', 'Address', 'Postcode', 'Suburb', 'Brand']].fillna(method='ffill')\n"
     ]
    }
   ],
   "source": [
    "combined_df[['ServiceStationName', 'Address', 'Postcode', 'Suburb', 'Brand']] = (\n",
    "    combined_df[['ServiceStationName', 'Address', 'Postcode', 'Suburb', 'Brand']].fillna(method='ffill')\n",
    ")\n"
   ]
  },
  {
   "cell_type": "code",
   "execution_count": 23,
   "metadata": {},
   "outputs": [
    {
     "data": {
      "text/plain": [
       "ServiceStationName    0\n",
       "Address               0\n",
       "Postcode              0\n",
       "Suburb                0\n",
       "Brand                 0\n",
       "dtype: int64"
      ]
     },
     "execution_count": 23,
     "metadata": {},
     "output_type": "execute_result"
    }
   ],
   "source": [
    "missing_summary = combined_df[columns_of_interest].isnull().sum()\n",
    "missing_summary"
   ]
  },
  {
   "cell_type": "code",
   "execution_count": 24,
   "metadata": {},
   "outputs": [],
   "source": [
    "# Save combined file\n",
    "output_path = \"/Users/henrychiu/Documents/fuel check project/fuel check data/2022/combined_fuel_price_history_2022_cleaned.csv\"\n",
    "combined_df.to_csv(output_path, index=False)"
   ]
  }
 ],
 "metadata": {
  "kernelspec": {
   "display_name": "base",
   "language": "python",
   "name": "python3"
  },
  "language_info": {
   "codemirror_mode": {
    "name": "ipython",
    "version": 3
   },
   "file_extension": ".py",
   "mimetype": "text/x-python",
   "name": "python",
   "nbconvert_exporter": "python",
   "pygments_lexer": "ipython3",
   "version": "3.11.8"
  }
 },
 "nbformat": 4,
 "nbformat_minor": 2
}
